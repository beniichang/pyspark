{
 "cells": [
  {
   "cell_type": "code",
   "execution_count": 46,
   "id": "6552b8fd",
   "metadata": {},
   "outputs": [
    {
     "data": {
      "text/plain": [
       "'C:\\\\Users\\\\adven\\\\.conda\\\\envs\\\\spark\\\\lib\\\\site-packages\\\\pyspark'"
      ]
     },
     "execution_count": 46,
     "metadata": {},
     "output_type": "execute_result"
    }
   ],
   "source": [
    "import findspark\n",
    "findspark.init()\n",
    "findspark.find()"
   ]
  },
  {
   "cell_type": "code",
   "execution_count": 47,
   "id": "3d7a992e",
   "metadata": {},
   "outputs": [],
   "source": [
    "from pyspark.sql import SparkSession\n",
    "spark = SparkSession.builder.appName('SparkByExamples.com').getOrCreate()\n",
    "\n",
    "data=[(\"James\",\"Bond\",\"100\",None),\n",
    "      (\"Ann\",\"Varsa\",\"200\",'F'),\n",
    "      (\"Tom Cruise\",\"XXX\",\"400\",''),\n",
    "      (\"Tom Brand\",None,\"400\",'M')] \n",
    "columns=[\"fname\",\"lname\",\"id\",\"gender\"]\n",
    "df=spark.createDataFrame(data,columns)"
   ]
  },
  {
   "cell_type": "code",
   "execution_count": 48,
   "id": "fa019194",
   "metadata": {
    "scrolled": false
   },
   "outputs": [
    {
     "name": "stdout",
     "output_type": "stream",
     "text": [
      "root\n",
      " |-- fname: string (nullable = true)\n",
      " |-- lname: string (nullable = true)\n",
      " |-- id: string (nullable = true)\n",
      " |-- gender: string (nullable = true)\n",
      "\n"
     ]
    }
   ],
   "source": [
    "df.printSchema()"
   ]
  },
  {
   "cell_type": "code",
   "execution_count": 49,
   "id": "736ac1fa",
   "metadata": {
    "scrolled": true
   },
   "outputs": [
    {
     "name": "stdout",
     "output_type": "stream",
     "text": [
      "+----------+-----+---+------+\n",
      "|     fname|lname| id|gender|\n",
      "+----------+-----+---+------+\n",
      "|     James| Bond|100|  null|\n",
      "|       Ann|Varsa|200|     F|\n",
      "|Tom Cruise|  XXX|400|      |\n",
      "| Tom Brand| null|400|     M|\n",
      "+----------+-----+---+------+\n",
      "\n"
     ]
    }
   ],
   "source": [
    "df.show()"
   ]
  },
  {
   "cell_type": "code",
   "execution_count": 50,
   "id": "8fcbf7c9",
   "metadata": {
    "scrolled": true
   },
   "outputs": [
    {
     "name": "stdout",
     "output_type": "stream",
     "text": [
      "+---------+--------+------+------+\n",
      "|firstname|lastname|gender|salary|\n",
      "+---------+--------+------+------+\n",
      "|    James|   Smith|     M|  3000|\n",
      "|     Anna|    Rose|     F|  4100|\n",
      "|   Robert|Williams|     M|  6200|\n",
      "+---------+--------+------+------+\n",
      "\n"
     ]
    }
   ],
   "source": [
    "data = [('James','Smith','M',3000),\n",
    "        ('Anna','Rose','F',4100),\n",
    "        ('Robert','Williams','M',6200)\n",
    "        ]\n",
    "\n",
    "columns = [\"firstname\",\"lastname\",\"gender\",\"salary\"]\n",
    "# df = spark.createDataFrame(data=data, schema = columns)\n",
    "df = spark.createDataFrame(data,columns)\n",
    "df.show()"
   ]
  },
  {
   "cell_type": "code",
   "execution_count": 51,
   "id": "e985ef42",
   "metadata": {},
   "outputs": [
    {
     "name": "stdout",
     "output_type": "stream",
     "text": [
      "aa\n"
     ]
    }
   ],
   "source": [
    "if 'salary1' not in df.columns:\n",
    "    print(\"aa\")"
   ]
  },
  {
   "cell_type": "code",
   "execution_count": 52,
   "id": "4b6663c4",
   "metadata": {},
   "outputs": [
    {
     "name": "stdout",
     "output_type": "stream",
     "text": [
      "+---------+--------+------+------+-------------+\n",
      "|firstname|lastname|gender|salary|bonus_percent|\n",
      "+---------+--------+------+------+-------------+\n",
      "|    James|   Smith|     M|  3000|          0.3|\n",
      "|     Anna|    Rose|     F|  4100|          0.3|\n",
      "|   Robert|Williams|     M|  6200|          0.3|\n",
      "+---------+--------+------+------+-------------+\n",
      "\n"
     ]
    }
   ],
   "source": [
    "# Add new constanct column\n",
    "from pyspark.sql.functions import lit\n",
    "\n",
    "df.withColumn(\"bonus_percent\", lit(0.3)) \\\n",
    "  .show()"
   ]
  },
  {
   "cell_type": "code",
   "execution_count": 53,
   "id": "5b7471a0",
   "metadata": {
    "scrolled": true
   },
   "outputs": [
    {
     "name": "stdout",
     "output_type": "stream",
     "text": [
      "+---------+--------+------+------+------------+\n",
      "|firstname|lastname|gender|salary|bonus_amount|\n",
      "+---------+--------+------+------+------------+\n",
      "|    James|   Smith|     M|  3000|       900.0|\n",
      "|     Anna|    Rose|     F|  4100|      1230.0|\n",
      "|   Robert|Williams|     M|  6200|      1860.0|\n",
      "+---------+--------+------+------+------------+\n",
      "\n"
     ]
    }
   ],
   "source": [
    "#Add column from existing column\n",
    "df.withColumn(\"bonus_amount\", df.salary*0.3).show()"
   ]
  },
  {
   "cell_type": "code",
   "execution_count": 54,
   "id": "71a8bace",
   "metadata": {},
   "outputs": [
    {
     "name": "stdout",
     "output_type": "stream",
     "text": [
      "+---------+--------+------+------+---------------+\n",
      "|firstname|lastname|gender|salary|           name|\n",
      "+---------+--------+------+------+---------------+\n",
      "|    James|   Smith|     M|  3000|    James,Smith|\n",
      "|     Anna|    Rose|     F|  4100|      Anna,Rose|\n",
      "|   Robert|Williams|     M|  6200|Robert,Williams|\n",
      "+---------+--------+------+------+---------------+\n",
      "\n"
     ]
    }
   ],
   "source": [
    "#Add column by concatinating existing columns\n",
    "from pyspark.sql.functions import concat_ws\n",
    "\n",
    "df.withColumn(\"name\", concat_ws(\",\",\"firstname\",'lastname')).show()"
   ]
  },
  {
   "cell_type": "code",
   "execution_count": 55,
   "id": "bba2f78e",
   "metadata": {},
   "outputs": [
    {
     "name": "stdout",
     "output_type": "stream",
     "text": [
      "+---------+--------+------+------+------------+\n",
      "|firstname|lastname|gender|salary|current_date|\n",
      "+---------+--------+------+------+------------+\n",
      "|    James|   Smith|     M|  3000|  2022-06-14|\n",
      "|     Anna|    Rose|     F|  4100|  2022-06-14|\n",
      "|   Robert|Williams|     M|  6200|  2022-06-14|\n",
      "+---------+--------+------+------+------------+\n",
      "\n"
     ]
    }
   ],
   "source": [
    "#Add current date\n",
    "from pyspark.sql.functions import current_date\n",
    "df.withColumn(\"current_date\", current_date()) \\\n",
    "  .show()"
   ]
  },
  {
   "cell_type": "code",
   "execution_count": 56,
   "id": "73287428",
   "metadata": {},
   "outputs": [
    {
     "name": "stdout",
     "output_type": "stream",
     "text": [
      "+---------+--------+------+------+-----+\n",
      "|firstname|lastname|gender|salary|grade|\n",
      "+---------+--------+------+------+-----+\n",
      "|    James|   Smith|     M|  3000|    A|\n",
      "|     Anna|    Rose|     F|  4100|    B|\n",
      "|   Robert|Williams|     M|  6200|    C|\n",
      "+---------+--------+------+------+-----+\n",
      "\n"
     ]
    }
   ],
   "source": [
    "from pyspark.sql.functions import when\n",
    "\n",
    "df.withColumn(\"grade\", \\\n",
    "   when((df.salary < 4000), lit(\"A\")) \\\n",
    "     .when((df.salary >= 4000) & (df.salary <= 5000), lit(\"B\")) \\\n",
    "     .otherwise(lit(\"C\")) \\\n",
    "  ).show()"
   ]
  },
  {
   "cell_type": "code",
   "execution_count": 57,
   "id": "c187fe7c",
   "metadata": {},
   "outputs": [
    {
     "name": "stdout",
     "output_type": "stream",
     "text": [
      "+---------+------+-----+\n",
      "|firstname|salary|bonus|\n",
      "+---------+------+-----+\n",
      "|    James|  3000|  0.3|\n",
      "|     Anna|  4100|  0.3|\n",
      "|   Robert|  6200|  0.3|\n",
      "+---------+------+-----+\n",
      "\n",
      "+---------+------+------------+\n",
      "|firstname|salary|bonus_amount|\n",
      "+---------+------+------------+\n",
      "|    James|  3000|       900.0|\n",
      "|     Anna|  4100|      1230.0|\n",
      "|   Robert|  6200|      1860.0|\n",
      "+---------+------+------------+\n",
      "\n",
      "+---------+------+----------+\n",
      "|firstname|salary|today_date|\n",
      "+---------+------+----------+\n",
      "|    James|  3000|2022-06-14|\n",
      "|     Anna|  4100|2022-06-14|\n",
      "|   Robert|  6200|2022-06-14|\n",
      "+---------+------+----------+\n",
      "\n"
     ]
    }
   ],
   "source": [
    "# Add column using select\n",
    "df.select(\"firstname\",\"salary\", lit(0.3).alias(\"bonus\")).show()\n",
    "df.select(\"firstname\",\"salary\", lit(df.salary * 0.3).alias(\"bonus_amount\")).show()\n",
    "df.select(\"firstname\",\"salary\", current_date().alias(\"today_date\")).show()"
   ]
  },
  {
   "cell_type": "code",
   "execution_count": 58,
   "id": "97de9324",
   "metadata": {},
   "outputs": [
    {
     "name": "stdout",
     "output_type": "stream",
     "text": [
      "+---------+------+-----+\n",
      "|firstname|salary|bonus|\n",
      "+---------+------+-----+\n",
      "|    James|  3000|  0.3|\n",
      "|     Anna|  4100|  0.3|\n",
      "|   Robert|  6200|  0.3|\n",
      "+---------+------+-----+\n",
      "\n",
      "+---------+------+------------+\n",
      "|firstname|salary|bonus_amount|\n",
      "+---------+------+------------+\n",
      "|    James|  3000|       900.0|\n",
      "|     Anna|  4100|      1230.0|\n",
      "|   Robert|  6200|      1860.0|\n",
      "+---------+------+------------+\n",
      "\n",
      "+---------+------+----------+\n",
      "|firstname|salary|today_date|\n",
      "+---------+------+----------+\n",
      "|    James|  3000|2022-06-14|\n",
      "|     Anna|  4100|2022-06-14|\n",
      "|   Robert|  6200|2022-06-14|\n",
      "+---------+------+----------+\n",
      "\n",
      "+---------+------+-----+\n",
      "|firstname|salary|grade|\n",
      "+---------+------+-----+\n",
      "|    James|  3000|    B|\n",
      "|     Anna|  4100|    B|\n",
      "|   Robert|  6200|    B|\n",
      "+---------+------+-----+\n",
      "\n"
     ]
    }
   ],
   "source": [
    "#Add columns using SQL\n",
    "df.createOrReplaceTempView(\"PER\")\n",
    "spark.sql(\"select firstname,salary, '0.3' as bonus from PER\").show()\n",
    "spark.sql(\"select firstname,salary, salary * 0.3 as bonus_amount from PER\").show()\n",
    "spark.sql(\"select firstname,salary, current_date() as today_date from PER\").show()\n",
    "spark.sql(\"select firstname,salary, \" +\n",
    "          \"case salary when salary < 4000 then 'A' \"+\n",
    "          \"else 'B' END as grade from PER\").show()"
   ]
  }
 ],
 "metadata": {
  "kernelspec": {
   "display_name": "spark",
   "language": "python",
   "name": "spark"
  },
  "language_info": {
   "codemirror_mode": {
    "name": "ipython",
    "version": 3
   },
   "file_extension": ".py",
   "mimetype": "text/x-python",
   "name": "python",
   "nbconvert_exporter": "python",
   "pygments_lexer": "ipython3",
   "version": "3.8.13"
  }
 },
 "nbformat": 4,
 "nbformat_minor": 5
}
